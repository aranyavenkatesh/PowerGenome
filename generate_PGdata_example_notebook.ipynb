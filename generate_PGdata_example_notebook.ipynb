{
 "cells": [
  {
   "cell_type": "code",
   "execution_count": 1,
   "metadata": {},
   "outputs": [],
   "source": [
    "#based on scripts in https://github.com/gschivley/PowerGenome/tree/master/notebooks\n",
    "#last modified: Aranya Venkatesh, Oct 14, 2020\n",
    "\n",
    "%load_ext autoreload\n",
    "%autoreload 2\n",
    "import warnings\n",
    "warnings.simplefilter(\"ignore\")\n",
    "\n",
    "from pathlib import Path\n",
    "import geopandas as gpd\n",
    "import numpy as np\n",
    "import pandas as pd\n",
    "from powergenome.generators import GeneratorClusters, add_genx_model_tags\n",
    "from powergenome.GenX import reduce_time_domain\n",
    "from powergenome.load_profiles import make_final_load_curves\n",
    "from powergenome.params import DATA_PATHS\n",
    "from powergenome.util import (\n",
    "    build_scenario_settings,\n",
    "    init_pudl_connection,\n",
    "    load_settings,\n",
    ")\n",
    "from powergenome.external_data import (\n",
    "    make_demand_response_profiles,\n",
    "    make_generator_variability,\n",
    ")\n",
    "\n",
    "from powergenome.load_profiles import (\n",
    "    make_load_curves, \n",
    "    add_load_growth, \n",
    "    make_final_load_curves, \n",
    "    make_distributed_gen_profiles,\n",
    ")\n",
    "from powergenome.external_data import make_demand_response_profiles\n",
    "from powergenome.generators import GeneratorClusters\n",
    "from powergenome.util import (\n",
    "    build_scenario_settings,\n",
    "    init_pudl_connection,\n",
    "    load_settings,\n",
    "    reverse_dict_of_lists,\n",
    "    remove_feb_29\n",
    ")\n",
    "\n",
    "from powergenome.load_profiles import make_final_load_curves\n",
    "from powergenome.generators import GeneratorClusters\n",
    "from powergenome.util import (\n",
    "    build_scenario_settings,\n",
    "    init_pudl_connection,\n",
    "    load_settings,\n",
    "    reverse_dict_of_lists\n",
    ")\n",
    "\n",
    "from powergenome.GenX import reduce_time_domain, add_misc_gen_values\n",
    "from powergenome.external_data import make_generator_variability\n",
    "\n",
    "from powergenome.generators import load_ipm_shapefile\n",
    "from powergenome.GenX import (\n",
    "    network_line_loss,\n",
    "    network_max_reinforcement,\n",
    "    network_reinforcement_cost,\n",
    ")\n",
    "from powergenome.transmission import (\n",
    "    agg_transmission_constraints,\n",
    "    transmission_line_distance,\n",
    ")\n",
    "from powergenome.util import init_pudl_connection, load_settings\n",
    "\n",
    "pd.options.display.max_columns = 200"
   ]
  },
  {
   "cell_type": "code",
   "execution_count": 2,
   "metadata": {},
   "outputs": [],
   "source": [
    "import pandas as pd\n",
    "import numpy as np\n",
    "import os\n",
    "import sqlite3\n",
    "import shutil\n",
    "import datetime\n",
    "import matplotlib.pyplot as plt"
   ]
  },
  {
   "cell_type": "code",
   "execution_count": 3,
   "metadata": {},
   "outputs": [],
   "source": [
    "run_folder = \"US_National\"\n",
    "settings_file = \"US_N_settings.yml\"\n",
    "scenario = \"p6\""
   ]
  },
  {
   "cell_type": "code",
   "execution_count": 5,
   "metadata": {},
   "outputs": [],
   "source": [
    "pudl_engine, pudl_out = init_pudl_connection()\n",
    "cwd = Path.cwd()\n",
    "\n",
    "settings_path = (\n",
    "    cwd / run_folder / settings_file\n",
    ")\n",
    "settings = load_settings(settings_path)\n",
    "settings[\"input_folder\"] = settings_path.parent / settings[\"input_folder\"]\n",
    "scenario_definitions = pd.read_csv(\n",
    "    settings[\"input_folder\"] / settings[\"scenario_definitions_fn\"]\n",
    ")\n",
    "scenario_settings = build_scenario_settings(settings, scenario_definitions)"
   ]
  },
  {
   "cell_type": "code",
   "execution_count": 6,
   "metadata": {},
   "outputs": [],
   "source": [
    "all_periods = list(scenario_settings.keys())\n",
    "start_year = all_periods[0]\n",
    "run_new = 1\n",
    "file_prefix = str(settings_path).replace('.yml','_')"
   ]
  },
  {
   "cell_type": "code",
   "execution_count": null,
   "metadata": {},
   "outputs": [
    {
     "name": "stdout",
     "output_type": "stream",
     "text": [
      "961.5000000000002  MW without lat/lon\n"
     ]
    }
   ],
   "source": [
    "if run_new==1:\n",
    "    new_gen = pd.DataFrame()\n",
    "    for year in all_periods[1:]: #new gen for start year is included in all_gen\n",
    "        gc = GeneratorClusters(pudl_engine, pudl_out, scenario_settings[year][scenario])\n",
    "        new_gen_year = gc.create_new_generators()\n",
    "        new_gen_year.loc[:,'operating_year'] = year\n",
    "        new_gen = pd.concat([new_gen, new_gen_year]) #create new generators for periods beyond the first\n",
    "\n",
    "    load_curves = make_final_load_curves(pudl_engine, scenario_settings[start_year][scenario])\n",
    "\n",
    "    gc = GeneratorClusters(pudl_engine, pudl_out, scenario_settings[start_year][scenario])\n",
    "    all_gens = gc.create_all_generators() #create existing and new generators for the first time period\n",
    "    \n",
    "    #add misc_values from misc_gen_inputs_fn file in extra_inputs folder\n",
    "    all_gens = add_misc_gen_values(all_gens,settings)\n",
    "    new_gen = add_misc_gen_values(new_gen,settings)\n",
    "\n",
    "    gen_variability = make_generator_variability(all_gens)\n",
    "\n",
    "    (\n",
    "        reduced_resource_profile,\n",
    "        reduced_load_profile,\n",
    "        long_duration_storage,\n",
    "    ) = reduce_time_domain(gen_variability, load_curves, scenario_settings[start_year][scenario])\n",
    "    \n",
    "    if len(settings['region_aggregations'])>1:\n",
    "        transmission = agg_transmission_constraints(pudl_engine=pudl_engine, settings=settings)\n",
    "        model_regions_gdf = load_ipm_shapefile(settings)\n",
    "        transmission = transmission_line_distance(\n",
    "            trans_constraints_df=transmission,\n",
    "            ipm_shapefile=model_regions_gdf,\n",
    "            settings=settings,\n",
    "        )\n",
    "        transmission = network_line_loss(transmission=transmission, settings=settings)\n",
    "        transmission = network_reinforcement_cost(transmission=transmission, settings=settings)\n",
    "        transmission = network_max_reinforcement(transmission=transmission, settings=settings)\n",
    "        transmission.to_csv(file_prefix + 'transmission.csv', index=False)\n",
    "\n",
    "    reduced_load_profile.to_csv(file_prefix + 'reduced_load_profile.csv', index=False)\n",
    "    reduced_resource_profile.to_csv(file_prefix + 'reduced_resource_profile.csv', index=False)\n",
    "    all_gens.to_csv(file_prefix + 'all_gens.csv', index=False)\n",
    "    new_gen.to_csv(file_prefix + 'new_gen.csv', index=False)\n"
   ]
  },
  {
   "cell_type": "code",
   "execution_count": null,
   "metadata": {},
   "outputs": [],
   "source": [
    "if run_new!=1:\n",
    "    reduced_load_profile = pd.read_csv(file_prefix + 'reduced_load_profile.csv')\n",
    "    reduced_resource_profile = pd.read_csv(file_prefix + 'reduced_resource_profile.csv')\n",
    "    all_gens = pd.read_csv(file_prefix + 'all_gens.csv')\n",
    "    new_gen = pd.read_csv(file_prefix + 'new_gen.csv')\n",
    "    if len(settings['region_aggregations'])>1:\n",
    "        transmission = pd.read_csv(file_prefix + 'transmission.csv')"
   ]
  },
  {
   "cell_type": "code",
   "execution_count": null,
   "metadata": {},
   "outputs": [],
   "source": [
    "#create unique technology with resource, region and cluster name\n",
    "all_gens.loc[:, 'tech'] =  all_gens.loc[:, 'Resource'] + '-' + all_gens.loc[:,'region'] + '-' +all_gens.loc[:,'cluster'].map(int).map(str)\n",
    "#concat start year gens with remaining new gens\n",
    "all_gens_multi_year = pd.concat([all_gens, new_gen])\n",
    "all_gens_multi_year = all_gens_multi_year[all_gens.columns]\n",
    "all_gens_multi_year.loc[np.isnan(all_gens_multi_year.operating_year),'operating_year'] = all_periods[0]\n",
    "all_gens_multi_year.loc[all_gens_multi_year.operating_year==0,'operating_year'] = all_periods[0]"
   ]
  }
 ],
 "metadata": {
  "kernelspec": {
   "display_name": "Python [conda env:powergenome] *",
   "language": "python",
   "name": "conda-env-powergenome-py"
  },
  "language_info": {
   "codemirror_mode": {
    "name": "ipython",
    "version": 3
   },
   "file_extension": ".py",
   "mimetype": "text/x-python",
   "name": "python",
   "nbconvert_exporter": "python",
   "pygments_lexer": "ipython3",
   "version": "3.7.8"
  }
 },
 "nbformat": 4,
 "nbformat_minor": 4
}
