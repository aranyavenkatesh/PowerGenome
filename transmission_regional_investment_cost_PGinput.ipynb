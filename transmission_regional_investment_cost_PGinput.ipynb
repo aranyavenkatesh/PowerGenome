{
 "cells": [
  {
   "cell_type": "code",
   "execution_count": 6,
   "metadata": {},
   "outputs": [],
   "source": [
    "import pandas as pd\n",
    "import numpy as np\n",
    "import os\n",
    "import sqlite3\n",
    "import shutil\n",
    "import datetime\n",
    "import matplotlib.pyplot as plt\n",
    "import csv\n",
    "import warnings \n",
    "warnings.filterwarnings('ignore')\n",
    "from powergenome.util import reverse_dict_of_lists\n",
    "from powergenome.price_adjustment import inflation_price_adjustment"
   ]
  },
  {
   "cell_type": "code",
   "execution_count": 9,
   "metadata": {},
   "outputs": [],
   "source": [
    "#code from https://github.com/PowerGenome/PowerGenome/blob/e1549ca7495b077500c3081c1efa94ab74a146bd/example_system/test_settings.yml#L89-L118\n",
    "cost_multiplier_region_map = {\n",
    "    \"TRE\": [\"ERC_PHDL\", \"ERC_REST\", \"ERC_WEST\"],\n",
    "    \"FRCC\": [\"FRCC\"],\n",
    "    \"MISW\": [\"MIS_WUMS\", \"MIS_MNWI\", \"MIS_IA\"],\n",
    "    \"MISE\": [\"MIS_LMI\"],\n",
    "    \"PJMC\": [\"PJM_COMD\"],\n",
    "    \"MISC\": [\"MIS_IL\", \"MIS_MO\", \"S_D_AECI\", \"MIS_INKY\"],\n",
    "    \"SPPN\": [\"MIS_MAPP\", \"SPP_WAUE\", \"SPP_NEBR\", \"MIS_MIDA\"],\n",
    "    \"SPPC\": [\"SPP_N\"],\n",
    "    \"SPPS\": [\"SPP_WEST\", \"SPP_SPS\"],\n",
    "    \"MISS\": [\"MIS_AMSO\", \"MIS_WOTA\", \"MIS_LA\", \"MIS_AR\", \"MIS_D_MS\"],\n",
    "    \"SRSE\": [\"S_SOU\"],\n",
    "    \"SRCA\": [\"S_VACA\"],\n",
    "    \"PJMD\": [\"PJM_Dom\"],\n",
    "    \"PJMW\": [\"PJM_West\", \"PJM_AP\", \"PJM_ATSI\"],\n",
    "    \"PJME\": [\"PJM_WMAC\", \"PJM_EMAC\", \"PJM_SMAC\", \"PJM_PENE\"],\n",
    "    \"SRCE\": [\"S_C_TVA\", \"S_C_KY\"],\n",
    "    \"NYUP\": [\"NY_Z_A\", \"NY_Z_B\", \"NY_Z_C&E\", \"NY_Z_D\", \"NY_Z_F\", \"NY_Z_G-I\",],\n",
    "    \"NYCW\": [\"NY_Z_J\", \"NY_Z_K\"],\n",
    "    \"ISNE\": [\"NENG_ME\", \"NENGREST\", \"NENG_CT\"],\n",
    "    \"RMRG\": [\"WECC_CO\"],\n",
    "    \"BASN\": [\"WECC_ID\", \"WECC_WY\", \"WECC_UT\", \"WECC_NNV\"],\n",
    "    \"NWPP\": [\"WECC_PNW\", \"WECC_MT\"],\n",
    "    \"CANO\": [\"WEC_CALN\", \"WEC_BANC\"],\n",
    "    \"CASO\": [\"WECC_IID\", \"WECC_SCE\", \"WEC_LADW\", \"WEC_SDGE\"],\n",
    "    \"SRSG\": [\"WECC_AZ\", \"WECC_NM\", \"WECC_SNV\"],\n",
    "}\n",
    "rev_cost_mult_region_map = reverse_dict_of_lists(cost_multiplier_region_map)\n",
    "\n",
    "tx_capex_region_map = {\n",
    "    \"wecc\": [\n",
    "        \"WECC_AZ\",\n",
    "        \"WECC_CO\",\n",
    "        \"WECC_ID\",\n",
    "        \"WECC_MT\",\n",
    "        \"WECC_NM\",\n",
    "        \"WECC_NNV\",\n",
    "        \"WECC_PNW\",\n",
    "        \"WECC_SNV\",\n",
    "        \"WECC_UT\",\n",
    "        \"WECC_WY\",\n",
    "    ],\n",
    "    \"ca\": [\"WEC_BANC\", \"WEC_CALN\", \"WEC_LADW\", \"WEC_SDGE\", \"WECC_IID\", \"WECC_SCE\",],\n",
    "    \"tx\": [\"ERC_PHDL\", \"ERC_REST\", \"ERC_WEST\",],\n",
    "    \"upper_midwest\": [\n",
    "        \"MIS_MAPP\",\n",
    "        \"SPP_WAUE\",\n",
    "        \"MIS_MNWI\",\n",
    "        \"MIS_MIDA\",\n",
    "        \"MIS_IA\",\n",
    "        \"MIS_IL\",\n",
    "        \"MIS_INKY\",\n",
    "    ],\n",
    "    \"lower_midwest\": [\"SPP_N\", \"SPP_WEST\", \"SPP_SPS\", \"SPP_NEBR\",],\n",
    "    \"miso_s\": [\n",
    "        \"MIS_LA\",\n",
    "        \"MIS_WOTA\",\n",
    "        \"MIS_AMSO\",\n",
    "        \"MIS_AR\",\n",
    "        \"MIS_MO\",\n",
    "        \"S_D_AECI\",\n",
    "        \"MIS_D_MS\",\n",
    "    ],\n",
    "    \"great_lakes\": [\"MIS_WUMS\", \"MIS_LMI\",],\n",
    "    \"pjm_s\": [\"PJM_AP\", \"PJM_ATSI\", \"PJM_COMD\", \"PJM_Dom\", \"PJM_West\", \"S_C_KY\",],\n",
    "    \"pj_pa\": [\"PJM_PENE\", \"PJM_WMAC\",],\n",
    "    \"pjm_md_nj\": [\"PJM_EMAC\", \"PJM_SMAC\"],\n",
    "    \"ny\": [\"NY_Z_A\", \"NY_Z_B\", \"NY_Z_C&E\", \"NY_Z_D\", \"NY_Z_F\", \"NY_Z_G-I\", \"NY_Z_J\",],\n",
    "    \"tva\": [\"S_C_TVA\",],\n",
    "    \"south\": [\"S_SOU\",],\n",
    "    \"fl\": [\"FRCC\"],\n",
    "    \"vaca\": [\"S_VACA\"],\n",
    "    \"ne\": [\"NY_Z_K\", \"NENG_CT\", \"NENG_ME\", \"NENGREST\",],\n",
    "}\n",
    "\n",
    "rev_region_mapping = reverse_dict_of_lists(tx_capex_region_map)\n",
    "\n",
    "spur_costs_2013 = {\n",
    "    \"wecc\": 3900,\n",
    "    \"ca\": 3900 * 2.25,  # According to Reeds docs, CA is 2.25x the rest of WECC\n",
    "    \"tx\": 3900,\n",
    "    \"upper_midwest\": 3900,\n",
    "    \"lower_midwest\": 3800,\n",
    "    \"miso_s\": 3900 * 2.25,\n",
    "    \"great_lakes\": 4100,\n",
    "    \"pjm_s\": 3900 * 2.25,\n",
    "    \"pj_pa\": 3900 * 2.25,\n",
    "    \"pjm_md_nj\": 3900 * 2.25,\n",
    "    \"ny\": 3900 * 2.25,\n",
    "    \"tva\": 3800,\n",
    "    \"south\": 4950,\n",
    "    \"fl\": 4100,\n",
    "    \"vaca\": 3800,\n",
    "    \"ne\": 3900 * 2.25,\n",
    "}\n",
    "\n",
    "spur_costs_2018 = {\n",
    "    region: inflation_price_adjustment(cost, 2013, 2018)\n",
    "    for region, cost in spur_costs_2013.items()\n",
    "}\n",
    "\n",
    "tx_costs_2013 = {\n",
    "    \"wecc\": 1350,\n",
    "    \"ca\": 1350 * 2.25,  # According to Reeds docs, CA is 2.25x the rest of WECC\n",
    "    \"tx\": 1350,\n",
    "    \"upper_midwest\": 900,\n",
    "    \"lower_midwest\": 900,\n",
    "    \"miso_s\": 1750,\n",
    "    \"great_lakes\": 1050,\n",
    "    \"pjm_s\": 1350,\n",
    "    \"pj_pa\": 1750,\n",
    "    \"pjm_md_nj\": 4250,  # Bins are $1500 wide - assume max bin is $750 above max\n",
    "    \"ny\": 2750,\n",
    "    \"tva\": 1050,\n",
    "    \"south\": 1350,\n",
    "    \"fl\": 1350,\n",
    "    \"vaca\": 900,\n",
    "    \"ne\": 4250,  # Bins are $1500 wide - assume max bin is $750 above max\n",
    "}\n",
    "\n",
    "tx_costs_2018 = {\n",
    "    region: inflation_price_adjustment(cost, 2013, 2018)\n",
    "    for region, cost in tx_costs_2013.items()\n",
    "}"
   ]
  },
  {
   "cell_type": "code",
   "execution_count": 18,
   "metadata": {},
   "outputs": [],
   "source": [
    "map_cost_regions_to_temoa = dict()\n",
    "map_cost_regions_to_temoa['CA'] = 'ca'\n",
    "map_cost_regions_to_temoa['NW'] = 'wecc'\n",
    "map_cost_regions_to_temoa['SW'] = 'wecc'\n",
    "map_cost_regions_to_temoa['TX'] = 'tx'\n",
    "map_cost_regions_to_temoa['NE'] = 'ny'\n",
    "map_cost_regions_to_temoa['SE'] = 'tva'\n",
    "map_cost_regions_to_temoa['MID_AT'] = 'pj_pa'\n",
    "map_cost_regions_to_temoa['N_CEN'] = 'upper_midwest'\n",
    "map_cost_regions_to_temoa['CEN'] = 'miso_s'\n"
   ]
  },
  {
   "cell_type": "code",
   "execution_count": 42,
   "metadata": {},
   "outputs": [],
   "source": [
    "df_tx_spur_costs = pd.DataFrame(columns=['temoa_regions','transmission_regions','spur_costs', 'tx_costs'])\n",
    "df_tx_spur_costs['temoa_regions'] = list(map_cost_regions_to_temoa.keys())\n",
    "df_tx_spur_costs['transmission_regions'] = df_tx_spur_costs['temoa_regions'].map(map_cost_regions_to_temoa)\n",
    "df_tx_spur_costs['spur_costs'] = df_tx_spur_costs['transmission_regions'].map(spur_costs_2018)\n",
    "df_tx_spur_costs['tx_costs'] = df_tx_spur_costs['transmission_regions'].map(tx_costs_2018)"
   ]
  },
  {
   "cell_type": "code",
   "execution_count": 43,
   "metadata": {},
   "outputs": [],
   "source": [
    "df_tx_spur_costs['spur_costs'] = df_tx_spur_costs['spur_costs'].map(int)\n",
    "df_tx_spur_costs['tx_costs'] = df_tx_spur_costs['tx_costs'].map(int)"
   ]
  },
  {
   "cell_type": "code",
   "execution_count": 44,
   "metadata": {},
   "outputs": [
    {
     "data": {
      "text/plain": [
       "{'CA': 9458,\n",
       " 'NW': 4203,\n",
       " 'SW': 4203,\n",
       " 'TX': 4203,\n",
       " 'NE': 9458,\n",
       " 'SE': 4096,\n",
       " 'MID_AT': 9458,\n",
       " 'N_CEN': 4203,\n",
       " 'CEN': 9458}"
      ]
     },
     "execution_count": 44,
     "metadata": {},
     "output_type": "execute_result"
    }
   ],
   "source": [
    "df_tx_spur_costs[['temoa_regions','spur_costs']].set_index('temoa_regions').to_dict()['spur_costs']"
   ]
  },
  {
   "cell_type": "code",
   "execution_count": 45,
   "metadata": {},
   "outputs": [
    {
     "data": {
      "text/plain": [
       "{'CA': 3274,\n",
       " 'NW': 1455,\n",
       " 'SW': 1455,\n",
       " 'TX': 1455,\n",
       " 'NE': 2964,\n",
       " 'SE': 1131,\n",
       " 'MID_AT': 1886,\n",
       " 'N_CEN': 970,\n",
       " 'CEN': 1886}"
      ]
     },
     "execution_count": 45,
     "metadata": {},
     "output_type": "execute_result"
    }
   ],
   "source": [
    "df_tx_spur_costs[['temoa_regions','tx_costs']].set_index('temoa_regions').to_dict()['tx_costs']"
   ]
  }
 ],
 "metadata": {
  "kernelspec": {
   "display_name": "Python [conda env:powergenome] *",
   "language": "python",
   "name": "conda-env-powergenome-py"
  },
  "language_info": {
   "codemirror_mode": {
    "name": "ipython",
    "version": 3
   },
   "file_extension": ".py",
   "mimetype": "text/x-python",
   "name": "python",
   "nbconvert_exporter": "python",
   "pygments_lexer": "ipython3",
   "version": "3.7.8"
  }
 },
 "nbformat": 4,
 "nbformat_minor": 4
}
