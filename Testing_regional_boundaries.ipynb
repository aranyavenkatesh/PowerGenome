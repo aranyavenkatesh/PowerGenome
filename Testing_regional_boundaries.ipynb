{
 "cells": [
  {
   "cell_type": "code",
   "execution_count": null,
   "metadata": {},
   "outputs": [],
   "source": [
    "import pandas as pd\n",
    "import numpy as np\n",
    "import os\n",
    "import sqlite3\n",
    "import shutil\n",
    "import datetime\n",
    "import geopandas as gpd\n",
    "import matplotlib.pyplot as plt\n",
    "import csv"
   ]
  },
  {
   "cell_type": "code",
   "execution_count": null,
   "metadata": {},
   "outputs": [],
   "source": [
    "df_ipm = gpd.read_file('data/ipm_regions_simple.geojson')\n",
    "df_ipm = df_ipm.to_crs('EPSG:4326')\n",
    "df_ipm.loc[:,'large_region'] = df_ipm['IPM_Region'].apply(lambda x: x.split('_')[0])\n",
    "df_ipm.head()"
   ]
  },
  {
   "cell_type": "code",
   "execution_count": null,
   "metadata": {},
   "outputs": [],
   "source": [
    "#from https://www.census.gov/geographies/mapping-files/time-series/geo/carto-boundary-file.html (division file)\n",
    "df_census = gpd.read_file('cb_2018_us_division_20m')\n",
    "df_census = df_census.to_crs(\"EPSG:4326\")\n",
    "df_census.head()"
   ]
  },
  {
   "cell_type": "code",
   "execution_count": null,
   "metadata": {},
   "outputs": [],
   "source": [
    "#from https://hifld-geoplatform.opendata.arcgis.com/datasets/6b2af23c67f04f4cb01d88c61aaf558a_0\n",
    "df_nerc = gpd.read_file('NERC_Regions-shp/')\n",
    "df_nerc = df_nerc.to_crs(\"EPSG:4326\")\n",
    "df_nerc.head()"
   ]
  },
  {
   "cell_type": "code",
   "execution_count": null,
   "metadata": {},
   "outputs": [],
   "source": [
    "df_states = gpd.read_file('cb_2018_us_state_500k')\n",
    "df_states = df_states.to_crs(\"EPSG:4326\")\n",
    "df_states.head()\n"
   ]
  },
  {
   "cell_type": "code",
   "execution_count": null,
   "metadata": {},
   "outputs": [],
   "source": [
    "fig, ax = plt.subplots(figsize=(10,10))\n",
    "df_ipm.plot(ax=ax, column='IPM_Region', edgecolor='grey')\n",
    "df_census.plot(ax=ax, edgecolor='k', facecolor='None')\n",
    "ax.set_ylim([23, 50])\n",
    "ax.set_xlim([-130, -65])\n",
    "ax.set_xticks([])\n",
    "ax.set_yticks([])\n",
    "plt.savefig('census_ipm_regions.jpg', dpi=400)"
   ]
  },
  {
   "cell_type": "code",
   "execution_count": null,
   "metadata": {},
   "outputs": [],
   "source": [
    "fig, ax = plt.subplots(figsize=(10,10))\n",
    "df_ipm.plot(ax=ax, column='IPM_Region', edgecolor='grey')\n",
    "df_nerc.plot(ax=ax, edgecolor='k', facecolor='None')\n",
    "ax.set_ylim([23, 50])\n",
    "ax.set_xlim([-130, -65])\n",
    "ax.set_xticks([])\n",
    "ax.set_yticks([])\n",
    "plt.savefig('nerc_ipm_regions.jpg', dpi=400)"
   ]
  },
  {
   "cell_type": "code",
   "execution_count": null,
   "metadata": {},
   "outputs": [],
   "source": [
    "df_ipm['coords'] = df_ipm['geometry'].apply(lambda x: x.representative_point().coords[:])\n",
    "df_ipm['coords'] = [df_ipm[0] for df_ipm in df_ipm['coords']]"
   ]
  },
  {
   "cell_type": "code",
   "execution_count": null,
   "metadata": {},
   "outputs": [],
   "source": [
    "fig, ax = plt.subplots(figsize=(20,20))\n",
    "df_ipm.plot(ax=ax, column='IPM_Region', edgecolor='grey')\n",
    "df_states.plot(ax=ax, edgecolor='k', facecolor='None')\n",
    "ax.set_ylim([23, 50])\n",
    "ax.set_xlim([-130, -65])\n",
    "#ax.set_xticks([])\n",
    "#ax.set_yticks([])\n",
    "for idx, row in df_ipm.iterrows():\n",
    "    plt.annotate(text=row['IPM_Region'], xy=row['coords'],horizontalalignment='center')\n",
    "plt.savefig('state_ipm_regions.jpg', dpi=400)"
   ]
  },
  {
   "cell_type": "code",
   "execution_count": null,
   "metadata": {},
   "outputs": [],
   "source": [
    "df_reg1 = df_ipm.loc[df_ipm.loc[:,'IPM_Region'].apply(lambda x: 'WEC_' in x\n",
    "                                                      or 'SCE' in x or 'IID' in x),:]\n",
    "fig, ax = plt.subplots(figsize=(10,10))\n",
    "df_reg1.plot(ax=ax, column='IPM_Region', edgecolor='grey')\n",
    "df_states.plot(ax=ax, edgecolor='k', facecolor='None')\n",
    "ax.set_ylim([30, 50])\n",
    "ax.set_xlim([-127, -110])\n",
    "plt.title('Region 1')\n",
    "df_reg1.loc[:,'Region'] =1"
   ]
  },
  {
   "cell_type": "code",
   "execution_count": null,
   "metadata": {},
   "outputs": [],
   "source": [
    "df_reg2 = df_ipm.loc[df_ipm.loc[:,'IPM_Region'].apply(lambda x: 'PNW' in x or '_ID' in x \n",
    "                                                      or 'WY' in x or 'MT' in x),:]\n",
    "fig, ax = plt.subplots(figsize=(10,10))\n",
    "df_reg2.plot(ax=ax, column='IPM_Region', edgecolor='grey')\n",
    "df_states.plot(ax=ax, edgecolor='k', facecolor='None')\n",
    "ax.set_ylim([30, 50])\n",
    "ax.set_xlim([-127, -100])\n",
    "plt.title('Region 2')\n",
    "df_reg2.loc[:,'Region'] =2"
   ]
  },
  {
   "cell_type": "code",
   "execution_count": null,
   "metadata": {},
   "outputs": [],
   "source": [
    "df_reg3 = df_ipm.loc[df_ipm.loc[:,'IPM_Region'].apply(lambda x: 'AZ' in x or 'UT' in x or 'WECC_CO' in x\n",
    "                                                     or 'SNV' in x or 'NNV' in x or 'NM' in x),:]\n",
    "fig, ax = plt.subplots(figsize=(10,10))\n",
    "df_reg3.plot(ax=ax, column='IPM_Region', edgecolor='grey')\n",
    "df_states.plot(ax=ax, edgecolor='k', facecolor='None')\n",
    "ax.set_ylim([30, 50])\n",
    "ax.set_xlim([-125, -100])\n",
    "plt.title('Region 3')\n",
    "df_reg3.loc[:,'Region'] =3"
   ]
  },
  {
   "cell_type": "code",
   "execution_count": null,
   "metadata": {},
   "outputs": [],
   "source": [
    "df_reg4 = df_ipm.loc[df_ipm.loc[:,'IPM_Region'].apply(lambda x: 'ERC' in x),:]\n",
    "fig, ax = plt.subplots(figsize=(10,10))\n",
    "df_reg4.plot(ax=ax, column='IPM_Region', edgecolor='grey')\n",
    "df_states.plot(ax=ax, edgecolor='k', facecolor='None')\n",
    "ax.set_ylim([20, 40])\n",
    "ax.set_xlim([-110, -80])\n",
    "plt.title('Region 4')\n",
    "df_reg4.loc[:,'Region'] =4"
   ]
  },
  {
   "cell_type": "code",
   "execution_count": null,
   "metadata": {},
   "outputs": [],
   "source": [
    "df_reg5 = df_ipm.loc[df_ipm.loc[:,'IPM_Region'].apply(lambda x: 'SPP' in x\n",
    "                                                     or 'MIS_AR' in x or 'AECI' in x\n",
    "                                                     or 'MIS_MO' in x or 'MIS_WOTA' in x\n",
    "                                                     or 'MIS_LA' in x \n",
    "                                                     or 'MIS_AM' in x),:]\n",
    "fig, ax = plt.subplots(figsize=(10,10))\n",
    "df_reg5.plot(ax=ax, column='IPM_Region', edgecolor='grey')\n",
    "df_states.plot(ax=ax, edgecolor='k', facecolor='None')\n",
    "ax.set_ylim([25, 50])\n",
    "ax.set_xlim([-110, -80])\n",
    "plt.title('Region 5')\n",
    "df_reg5.loc[:,'Region'] =5"
   ]
  },
  {
   "cell_type": "code",
   "execution_count": null,
   "metadata": {},
   "outputs": [],
   "source": [
    "df_reg6 = df_ipm.loc[df_ipm.loc[:,'IPM_Region'].apply(lambda x: 'MIS_MAPP' in x\n",
    "                                                     or 'COMD' in x or 'MIS_MNWI' in x\n",
    "                                                     or 'MIS_WUMS' in x or 'MIS_IA' in x\n",
    "                                                     or 'MIS_MIDA' in x or 'MIS_IL' in x\n",
    "                                                     or 'MIS_INKY' in x or 'MIS_LMI' in x),:]\n",
    "fig, ax = plt.subplots(figsize=(10,10))\n",
    "df_reg6.plot(ax=ax, column='IPM_Region', edgecolor='grey')\n",
    "df_states.plot(ax=ax, edgecolor='k', facecolor='None')\n",
    "ax.set_ylim([20, 50])\n",
    "ax.set_xlim([-110, -80])\n",
    "plt.title('Region 6')\n",
    "df_reg6.loc[:,'Region'] =6"
   ]
  },
  {
   "cell_type": "code",
   "execution_count": null,
   "metadata": {},
   "outputs": [],
   "source": [
    "df_reg7 = df_ipm.loc[df_ipm.loc[:,'IPM_Region'].apply(lambda x: 'S_VACA' in x or 'S_SOU' in x\n",
    "                                                     or 'FRCC' in x or 'TVA' in x\n",
    "                                                     or '_MS' in x or 'S_C_KY' in x\n",
    "                                                     or 'TX' in x \n",
    "                                                      ),:]\n",
    "fig, ax = plt.subplots(figsize=(10,10))\n",
    "df_reg7.plot(ax=ax, column='IPM_Region', edgecolor='grey')\n",
    "df_states.plot(ax=ax, edgecolor='k', facecolor='None')\n",
    "ax.set_ylim([20, 40])\n",
    "ax.set_xlim([-100, -75])\n",
    "plt.title('Region 7')\n",
    "df_reg7.loc[:,'Region'] =7"
   ]
  },
  {
   "cell_type": "code",
   "execution_count": null,
   "metadata": {},
   "outputs": [],
   "source": [
    "df_reg8 = df_ipm.loc[df_ipm.loc[:,'IPM_Region'].apply(lambda x: 'PJM' in x and 'COMD' not in x),:]\n",
    "fig, ax = plt.subplots(figsize=(10,10))\n",
    "df_reg8.plot(ax=ax, column='IPM_Region', edgecolor='grey')\n",
    "df_states.plot(ax=ax, edgecolor='k', facecolor='None')\n",
    "ax.set_ylim([30,50])\n",
    "ax.set_xlim([-100, -60])\n",
    "plt.title('Region 8')\n",
    "df_reg8.loc[:,'Region'] = 8"
   ]
  },
  {
   "cell_type": "code",
   "execution_count": null,
   "metadata": {},
   "outputs": [],
   "source": [
    "df_reg9 = df_ipm.loc[df_ipm.loc[:,'IPM_Region'].apply(lambda x: 'ENG' in x or 'NY' in x),:]\n",
    "fig, ax = plt.subplots(figsize=(10,10))\n",
    "df_reg9.plot(ax=ax, column='IPM_Region', edgecolor='grey')\n",
    "df_states.plot(ax=ax, edgecolor='k', facecolor='None')\n",
    "ax.set_ylim([40,50])\n",
    "ax.set_xlim([-80, -60])\n",
    "plt.title('Region 9')\n",
    "df_reg9.loc[:,'Region'] =9"
   ]
  },
  {
   "cell_type": "code",
   "execution_count": null,
   "metadata": {},
   "outputs": [],
   "source": [
    "df_reg9"
   ]
  },
  {
   "cell_type": "code",
   "execution_count": null,
   "metadata": {},
   "outputs": [],
   "source": [
    "df_concat_IPM = pd.concat([df_reg1, df_reg2, df_reg3, df_reg4, df_reg5, df_reg6, df_reg7, df_reg8, df_reg9])\n",
    "print(len(df_concat_IPM), len(df_concat_IPM.IPM_Region.unique()))\n",
    "print(len(df_ipm))"
   ]
  },
  {
   "cell_type": "code",
   "execution_count": null,
   "metadata": {},
   "outputs": [],
   "source": [
    "df_states.loc[:,'Region'] = 0\n",
    "#region 1\n",
    "df_states.loc[df_states.loc[:,'STUSPS'].apply(lambda x: 'CA' in x ),'Region'] = 1\n",
    "#region 2\n",
    "df_states.loc[df_states.loc[:,'STUSPS'].apply(lambda x: 'OR' in x \n",
    "                                              or 'WA' in x or 'ID' in x\n",
    "                                              or 'MT' in x or 'WY' in x),'Region'] = 2\n",
    "#region 3\n",
    "df_states.loc[df_states.loc[:,'STUSPS'].apply(lambda x: 'NV' in x or 'UT' in x \n",
    "                                              or 'AZ' in x or 'CO' in x or 'NM' in x),'Region'] = 3\n",
    "#region 4\n",
    "df_states.loc[df_states.loc[:,'STUSPS'].apply(lambda x: 'TX' in x),'Region'] = 4\n",
    "#region 5\n",
    "df_states.loc[df_states.loc[:,'STUSPS'].apply(lambda x: 'OK' in x or 'KS' in x \n",
    "                                              or 'AR' in x or 'MO' in x\n",
    "                                             or 'SD' in x or 'NE' in x\n",
    "                                             or 'LA' in x),'Region'] = 5\n",
    "#region 6:\n",
    "df_states.loc[df_states.loc[:,'STUSPS'].apply(lambda x: 'IL' in x or 'IN' in x or 'MI' in x\n",
    "                                             or 'IA' in x or 'ND' in x\n",
    "                                             or 'WI' in x or 'MN' in x),'Region'] = 6\n",
    "#region 7\n",
    "df_states.loc[df_states.loc[:,'STUSPS'].apply(lambda x: 'FL' in x or 'GA' in x or 'AL' in x or 'TN' in x\n",
    "                                              or 'SC' in x or 'NC' in x or 'KY' in x\n",
    "                                              or 'MS' in x),'Region'] = 7\n",
    "\n",
    "\n",
    "#region 8:\n",
    "df_states.loc[df_states.loc[:,'STUSPS'].apply(lambda x: 'NJ' in x or 'PA' in x or 'OH' in x\n",
    "                                             or 'WV' in x or 'VA' in x \n",
    "                                             or 'DE' in x or 'MD' in x or 'DC' in x),'Region'] = 8\n",
    "#region 9:\n",
    "df_states.loc[df_states.loc[:,'STUSPS'].apply(lambda x: 'VT' in x or 'NH' in x or 'RI' in x or 'NY' in x\n",
    "                                              or 'MA' in x or 'CT' in x or 'ME' in x),'Region'] = 9\n",
    "df_states = df_states[df_states.Region!=0]"
   ]
  },
  {
   "cell_type": "code",
   "execution_count": null,
   "metadata": {},
   "outputs": [],
   "source": [
    "df_states['centroid_x'] = df_states.centroid.x\n",
    "df_states['centroid_y'] = df_states.centroid.y"
   ]
  },
  {
   "cell_type": "code",
   "execution_count": null,
   "metadata": {},
   "outputs": [],
   "source": [
    "df_states_region_groups = df_states.groupby('Region').mean()"
   ]
  },
  {
   "cell_type": "code",
   "execution_count": null,
   "metadata": {},
   "outputs": [],
   "source": [
    "dict_regions_write = csv.writer(open(\"IPM_regions_cluster.csv\", \"w\"))\n",
    "region_names = dict()\n",
    "region_names[1] = 'CA'\n",
    "region_names[2] = 'NW'\n",
    "region_names[3] = 'SW'\n",
    "region_names[4] = 'TX'\n",
    "region_names[5] = 'CEN'\n",
    "region_names[6] = 'N_CEN'\n",
    "region_names[7] = 'SE'\n",
    "region_names[8] = 'MID_AT'\n",
    "region_names[9] = 'NE'\n",
    "\n",
    "for key, val in dict_regions.items():    \n",
    "    dict_regions_write.writerow(['- ', region_names[key], ': ', val])"
   ]
  },
  {
   "cell_type": "code",
   "execution_count": null,
   "metadata": {},
   "outputs": [],
   "source": [
    "df_states_region_groups['reg_names'] = df_states_region_groups.index.map(region_names)"
   ]
  },
  {
   "cell_type": "code",
   "execution_count": null,
   "metadata": {},
   "outputs": [],
   "source": [
    "df_states_region_groups"
   ]
  },
  {
   "cell_type": "code",
   "execution_count": null,
   "metadata": {},
   "outputs": [],
   "source": [
    "fig, ax = plt.subplots(figsize=(17,10))\n",
    "df_concat_IPM.plot(ax=ax, column='Region', edgecolor='grey',cmap='Set1')\n",
    "#df_states.plot(ax=ax, edgecolor='grey', facecolor='None')\n",
    "for index, row in df_states_region_groups.iterrows():\n",
    "    ax.annotate(row['reg_names'], (row.centroid_x, row.centroid_y), horizontalalignment='right',\\\n",
    "               fontsize=24)\n",
    "ax.set_ylim([23, 50])\n",
    "ax.set_xlim([-125, -67])\n",
    "ax.set_xticks([])\n",
    "ax.set_yticks([])\n",
    "plt.tight_layout()\n",
    "plt.box(on=None)\n",
    "plt.savefig('IPM_regions_to_temoa_state_groups.jpg', dpi=400)"
   ]
  },
  {
   "cell_type": "code",
   "execution_count": null,
   "metadata": {},
   "outputs": [],
   "source": [
    "fig, ax = plt.subplots(figsize=(17,10))\n",
    "df_states.plot(ax=ax, column='Region', edgecolor='grey',cmap='Set1')\n",
    "#df_states.plot(ax=ax, edgecolor='grey', facecolor='None')\n",
    "for index, row in df_states_region_groups.iterrows():\n",
    "    ax.annotate(row['reg_names'], (row.centroid_x, row.centroid_y), horizontalalignment='right',\\\n",
    "               fontsize=24)\n",
    "ax.set_ylim([23, 50])\n",
    "ax.set_xlim([-125, -67])\n",
    "ax.set_xticks([])\n",
    "ax.set_yticks([])\n",
    "plt.tight_layout()\n",
    "plt.box(on=None)\n",
    "plt.savefig('states_to_temoa_state_groups.jpg', dpi=400)"
   ]
  },
  {
   "cell_type": "code",
   "execution_count": null,
   "metadata": {},
   "outputs": [],
   "source": [
    "df_concat_IPM = df_concat_IPM.loc[:,['IPM_Region', 'Region', 'geometry']]\n",
    "gdf_concat_IPM = gpd.GeoDataFrame(df_concat_IPM, crs='EPSG:4326')\n",
    "gdf_concat_IPM.to_file('mapping_IPM_regions_to_temoa_state_groups.geojson', driver=\"GeoJSON\")"
   ]
  },
  {
   "cell_type": "code",
   "execution_count": null,
   "metadata": {},
   "outputs": [],
   "source": [
    "gdf_states = gpd.GeoDataFrame(df_states, crs='EPSG:4326')\n",
    "gdf_states.to_file('mapping_states_to_temoa_state_groups.geojson', driver=\"GeoJSON\")"
   ]
  },
  {
   "cell_type": "code",
   "execution_count": null,
   "metadata": {},
   "outputs": [],
   "source": [
    "dict_regions = df_concat_IPM.loc[:,['IPM_Region', 'Region']].groupby('Region')['IPM_Region'].apply(list).to_dict()"
   ]
  },
  {
   "cell_type": "code",
   "execution_count": null,
   "metadata": {},
   "outputs": [],
   "source": [
    "key"
   ]
  },
  {
   "cell_type": "code",
   "execution_count": null,
   "metadata": {},
   "outputs": [],
   "source": [
    "us_national_list =list(df_concat_IPM.loc[:,'IPM_Region'].values)\n",
    "us_national_list\n",
    "dict_regions_write = csv.writer(open(\"IPM_regions_nationalcluster.csv\", \"w\"))\n",
    "dict_regions_write.writerow(['US_N', us_national_list])"
   ]
  },
  {
   "cell_type": "code",
   "execution_count": null,
   "metadata": {},
   "outputs": [],
   "source": [
    "df_states[['NAME','STUSPS','Region']].to_csv('state_regions_cluster.csv')"
   ]
  }
 ],
 "metadata": {
  "kernelspec": {
   "display_name": "Python 3",
   "language": "python",
   "name": "python3"
  },
  "language_info": {
   "codemirror_mode": {
    "name": "ipython",
    "version": 3
   },
   "file_extension": ".py",
   "mimetype": "text/x-python",
   "name": "python",
   "nbconvert_exporter": "python",
   "pygments_lexer": "ipython3",
   "version": "3.7.8"
  }
 },
 "nbformat": 4,
 "nbformat_minor": 4
}
